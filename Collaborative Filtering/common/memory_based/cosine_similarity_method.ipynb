{
 "cells": [
  {
   "cell_type": "markdown",
   "metadata": {},
   "source": [
    "# Метод косинусного сходства"
   ]
  },
  {
   "cell_type": "markdown",
   "metadata": {},
   "source": [
    "## О методе\n",
    "\n",
    "Метод **косинусного сходства** (*cosine similarity*) в коллаборативной фильтрации используется для измерения сходства между пользователями или предметами на основе их характеристик или предпочтений.\n",
    "\n",
    "Косинусное сходство измеряет **угол** между двумя **нормированными** векторами в многомерном пространстве.\n",
    "\n",
    "- Если угол маленький (векторы направлены в одну сторону), сходство близко к 1 (*почти идентичные предпочтения*)\n",
    "- Если угол большой (векторы направлены в разные стороны), сходство близко к 0 (*нет связи*)\n",
    "- Если векторы полностью противоположны, сходство -1 (*полная антипатия, но такое можно встретить крайне редко, отрицательные значения можно, например, обнулять или брать по модулю, рекомендательной системе важнее выявить сходства, чем противоположные предпочтения*)\n",
    "\n",
    "Косинус угла $ \\theta $ между векторами $ \\mathbf{A} $ и $ \\mathbf{B} $ находится по формуле:\n",
    "\n",
    "$$\n",
    "\\cos \\theta = \\frac{\\mathbf{A} \\cdot \\mathbf{B}}{\\|\\mathbf{A}\\| \\|\\mathbf{B}\\|}\n",
    "$$\n",
    "\n",
    "где:\n",
    "\n",
    "- $ \\mathbf{A} \\cdot \\mathbf{B} = \\sum_{i=1}^{n} A_i B_i = A_1 B_1 + A_2 B_2 + \\dots + A_n B_n $ — скалярное произведение векторов,\n",
    "- $ \\|\\mathbf{A}\\| $ и $ \\|\\mathbf{B}\\| $ — их длины (модули), вычисляемые как:\n",
    "\n",
    "$$\n",
    "\\|\\mathbf{A}\\| = \\sqrt{\\sum_{i=1}^{n} A_i^2} = \\sqrt{A_1^2 + A_2^2 + \\dots + A_n^2}, \\|\\mathbf{B}\\| = \\sqrt{\\sum_{i=1}^{n} B_i^2} = \\sqrt{B_1^2 + B_2^2 + \\dots + B_n^2}\n",
    "$$"
   ]
  },
  {
   "cell_type": "markdown",
   "metadata": {},
   "source": [
    "## Реализация\n",
    "\n",
    "### Данные\n",
    "\n",
    "**MIND** (***Mi**crosoft* ***N**ews* ***D**ataset*) - крупномасштабный набор данных для исследования рекомендаций новостей. Содержит около 160 тыс. новостных статей на английском языке и более 15 млн. журналов показов, созданных 1 млн. пользователей.\n",
    "\n",
    "Будет использоваться **MIND-small** - около 50 тыс. пользователей и их журналы взаимодействия.\n",
    "\n",
    "Данные состоят из нескольких файлов, среди которых интересующий нас - журнал взаимодействия пользователей (*behaviors.tsv*)\n",
    "\n",
    "Файл содержит таблицу, каждая строка которой состоит из номера взаимодействия, id пользователя, даты и времени взаимодействия, показанных пользователю новостей, новостей, на которые пользователь кликнул."
   ]
  },
  {
   "cell_type": "code",
   "execution_count": 1,
   "metadata": {},
   "outputs": [
    {
     "name": "stdout",
     "output_type": "stream",
     "text": [
      "   id user_id              timestamp  \\\n",
      "0   1  U13740  11/11/2019 9:05:58 AM   \n",
      "1   2  U91836  11/12/2019 6:11:30 PM   \n",
      "\n",
      "                                          shown_news  \\\n",
      "0  N55189 N42782 N34694 N45794 N18445 N63302 N104...   \n",
      "1  N31739 N6072 N63045 N23979 N35656 N43353 N8129...   \n",
      "\n",
      "                                        clicked_news  \n",
      "0                                  N55689-1 N35729-0  \n",
      "1  N20678-0 N39317-0 N58114-0 N20495-0 N42977-0 N...  \n"
     ]
    }
   ],
   "source": [
    "import pandas as pd\n",
    "\n",
    "df = pd.read_csv('../../data/Mindsmall_train/behaviors.tsv', sep='\\t', header=None, names=['id', 'user_id', 'timestamp', 'shown_news', 'clicked_news'])\n",
    "\n",
    "print(df.head(2))"
   ]
  },
  {
   "cell_type": "markdown",
   "metadata": {},
   "source": [
    "### Идея\n",
    "\n",
    "Для реализации метода косинусного сходства нужны две вещи: векторы и сущности, которые они представляют (в нашем случае - пользователи). В качестве вектора можно представить список новостей, на которые пользователь кликнул.\n",
    "\n",
    "Возможных значений координат вектора всего два:\n",
    "\n",
    "- 1 - если пользователь кликнул на новость\n",
    "- 0 - если не кликнул\n",
    "\n",
    "Вектор будет состоять из **всех** известных посещенных пользователем новостей.\n",
    "\n",
    "Нужно создать **матрицу пользователь-новость**, которая показывает, какие новости просматривал каждый пользователь. Эта матрица будет использоваться для вычисления косинусного сходства и рекомендаций."
   ]
  },
  {
   "cell_type": "markdown",
   "metadata": {},
   "source": [
    "### Код\n",
    "\n",
    "Столбцы **user_id** и **clicked_news** содержат строковые значения, причем столбец clicked_news может содержать сразу несколько новостей. Сначала нужно преобразовать таблицу таким образом, чтобы в каждой строке значение столбца clicked_news было одним. Затем закодировать их, чтобы представить значения в виде чисел для удобной работы с матрицами. Для этого можно использовать метод `factorize()`, который:\n",
    "\n",
    "- Преобразует **строковые значения** в **числовые индексы**\n",
    "- Возвращает два массива: **кодированные значения** и **уникальные категории**"
   ]
  },
  {
   "cell_type": "code",
   "execution_count": 2,
   "metadata": {},
   "outputs": [
    {
     "name": "stdout",
     "output_type": "stream",
     "text": [
      "[    0     0     1 ... 13308 13308 13308]\n",
      "[   0    1    2 ... 4178 1233 1574]\n"
     ]
    },
    {
     "data": {
      "text/plain": [
       "True"
      ]
     },
     "execution_count": 2,
     "metadata": {},
     "output_type": "execute_result"
    }
   ],
   "source": [
    "import numpy as np\n",
    "\n",
    "df = df[['user_id', 'clicked_news']]\n",
    "df['clicked_news'] = df['clicked_news'].str.split()\n",
    "df = df.explode('clicked_news')\n",
    "users, user_idx = pd.factorize(df['user_id'])\n",
    "news, news_idx = pd.factorize(df['clicked_news'])\n",
    "\n",
    "print(users)\n",
    "print(news)\n",
    "len(users) == len(news)"
   ]
  },
  {
   "cell_type": "code",
   "execution_count": 3,
   "metadata": {},
   "outputs": [
    {
     "name": "stdout",
     "output_type": "stream",
     "text": [
      "[[0 0 0 ... 0 0 0]\n",
      " [0 0 0 ... 0 0 0]\n",
      " [0 0 0 ... 0 0 0]\n",
      " ...\n",
      " [0 0 0 ... 0 0 0]\n",
      " [0 0 0 ... 0 0 0]\n",
      " [0 0 0 ... 0 0 0]]\n"
     ]
    }
   ],
   "source": [
    "user_news_matrix = np.zeros((len(user_idx), len(news_idx)), dtype=int)\n",
    "print(user_news_matrix)"
   ]
  },
  {
   "cell_type": "code",
   "execution_count": 4,
   "metadata": {},
   "outputs": [
    {
     "name": "stdout",
     "output_type": "stream",
     "text": [
      "Первые 5 пользователей: Index(['U13740', 'U91836', 'U73700', 'U34670', 'U8125'], dtype='object')\n",
      "Первые 6 новостей: Index(['N55689-1', 'N35729-0', 'N20678-0', 'N39317-0', 'N58114-0', 'N20495-0'], dtype='object')\n",
      "Фрагмент матрицы пользователь-новость:\n",
      "[[1 1 0 0 0 0]\n",
      " [0 0 1 1 1 1]\n",
      " [0 0 1 1 0 0]\n",
      " [0 1 0 0 0 0]\n",
      " [0 0 1 1 1 0]]\n"
     ]
    }
   ],
   "source": [
    "user_news_matrix[users, news] = 1\n",
    "# Проверка правильности:\n",
    "print(\"Первые 5 пользователей:\", user_idx[:5])\n",
    "print(\"Первые 6 новостей:\", news_idx[:6])\n",
    "print(\"Фрагмент матрицы пользователь-новость:\")\n",
    "print(user_news_matrix[:5, :6])  # Фрагмент 5x6 для проверки"
   ]
  },
  {
   "cell_type": "markdown",
   "metadata": {},
   "source": [
    "Получена матрица, строки которой - это те векторы, которые и нужно сравнивать. Теперь можно реализовать сам метод косинусного сходства - вычисление угла между векторами"
   ]
  },
  {
   "cell_type": "code",
   "execution_count": 10,
   "metadata": {},
   "outputs": [
    {
     "name": "stdout",
     "output_type": "stream",
     "text": [
      "[[1.         0.16263684 0.0140929  ... 0.32737904 0.01583119 0.09293534]\n",
      " [0.16263684 1.         0.23329532 ... 0.33549085 0.19218555 0.05128205]\n",
      " [0.0140929  0.23329532 1.         ... 0.         0.06358559 0.09331813]\n",
      " ...\n",
      " [0.32737904 0.33549085 0.         ... 1.         0.0527535  0.14193844]\n",
      " [0.01583119 0.19218555 0.06358559 ... 0.0527535  1.         0.08735707]\n",
      " [0.09293534 0.05128205 0.09331813 ... 0.14193844 0.08735707 1.        ]]\n"
     ]
    },
    {
     "name": "stderr",
     "output_type": "stream",
     "text": [
      "C:\\Users\\ostas\\AppData\\Local\\Temp\\ipykernel_15924\\1013360203.py:4: RuntimeWarning: invalid value encountered in divide\n",
      "  normalized_matrix = matrix / norms\n"
     ]
    }
   ],
   "source": [
    "def cosine_similarity_matrix(matrix):\n",
    "    # Нормализация векторов\n",
    "    norms = np.linalg.norm(matrix, axis=1, keepdims=True)\n",
    "    normalized_matrix = matrix / norms\n",
    "\n",
    "    # Получаем матрицу сходства, умножая нормализованную матрицу на транспонированную\n",
    "    similarity_matrix = np.dot(normalized_matrix, normalized_matrix.T)\n",
    "\n",
    "    return similarity_matrix\n",
    "\n",
    "cos_sim_matrix = cosine_similarity_matrix(user_news_matrix[:1000, :1000])\n",
    "print(cos_sim_matrix)"
   ]
  },
  {
   "cell_type": "markdown",
   "metadata": {},
   "source": [
    "Итак, получена матрица сходства пользователей, и теперь на ее основе можно рекомендовать новости. Каждый элемент матрицы отражает сходство *i*-го пользователя с *j*-м. Соответственно, для рекомендации новостей нужно выбирать элементы с наибольшим значением сходства.\n",
    "\n",
    "Итак, далее:\n",
    "\n",
    "- Для пользователя, которому нужны рекомендации, найдем похожих\n",
    "- Посмотрим, какие новости предпочли эти пользователи\n",
    "- Рекомендуем те из них, которые не были прочитаны"
   ]
  },
  {
   "cell_type": "code",
   "execution_count": 14,
   "metadata": {},
   "outputs": [
    {
     "name": "stdout",
     "output_type": "stream",
     "text": [
      "['N52122-0', 'N33619-0', 'N63970-1', 'N20079-1']\n"
     ]
    }
   ],
   "source": [
    "def recommend_news(user_id, user_news_matrix, similarity_matrix, user_ids, news_ids, top_n):\n",
    "    # Находим индекс пользователя\n",
    "    user_idx = np.where(user_ids == user_id)[0][0]\n",
    "\n",
    "    # Получаем индексы top_n похожих пользователей (без самого пользователя)\n",
    "    user_similarities = similarity_matrix[user_idx]\n",
    "    similar_users_idx = np.argsort(user_similarities)[::-1][1:top_n+1]\n",
    "\n",
    "    # Новости, которые пользователь уже смотрел\n",
    "    watched_by_user = set(np.where(user_news_matrix[user_idx] == 1)[0])\n",
    "\n",
    "    # Список новостей для рекомендаций\n",
    "    recommended_news = set()\n",
    "\n",
    "    for sim_idx in similar_users_idx:\n",
    "        # Одинаковые новости\n",
    "        watched_by_similar = np.where(user_news_matrix[sim_idx] == 1)[0]\n",
    "\n",
    "        # Рекомендуемые новости\n",
    "        recommended_news.update(watched_by_similar)\n",
    "\n",
    "    # Убираем уже просмотренные самим пользователем\n",
    "    recommended_news -= watched_by_user\n",
    "\n",
    "    # Преобразуем индексы новостей в их исходные идентификаторы\n",
    "    recommended_news_ids = [news_idx[i] for i in recommended_news]\n",
    "\n",
    "    return recommended_news_ids\n",
    "\n",
    "print(recommend_news('U13740', user_news_matrix, cos_sim_matrix, user_idx, news_idx, 2))"
   ]
  },
  {
   "cell_type": "code",
   "execution_count": null,
   "metadata": {},
   "outputs": [],
   "source": []
  }
 ],
 "metadata": {
  "kernelspec": {
   "display_name": "Python 3",
   "language": "python",
   "name": "python3"
  },
  "language_info": {
   "codemirror_mode": {
    "name": "ipython",
    "version": 3
   },
   "file_extension": ".py",
   "mimetype": "text/x-python",
   "name": "python",
   "nbconvert_exporter": "python",
   "pygments_lexer": "ipython3",
   "version": "3.12.5"
  }
 },
 "nbformat": 4,
 "nbformat_minor": 2
}
