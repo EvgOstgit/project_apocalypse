{
 "cells": [
  {
   "cell_type": "markdown",
   "metadata": {},
   "source": [
    "# Метод косинусного сходства"
   ]
  },
  {
   "cell_type": "markdown",
   "metadata": {},
   "source": [
    "## О методе\n",
    "\n",
    "Метод **косинусного сходства** (*cosine similarity*) в коллаборативной фильтрации используется для измерения сходства между пользователями или предметами на основе их характеристик или предпочтений.\n",
    "\n",
    "Косинусное сходство измеряет **угол** между двумя **нормированными** векторами в многомерном пространстве.\n",
    "\n",
    "- Если угол маленький (векторы направлены в одну сторону), сходство близко к 1 (*почти идентичные предпочтения*)\n",
    "- Если угол большой (векторы направлены в разные стороны), сходство близко к 0 (*нет связи*)\n",
    "- Если векторы полностью противоположны, сходство -1 (*полная антипатия, но такое можно встретить крайне редко, отрицательные значения можно, например, обнулять или брать по модулю, рекомендательной системе важнее выявить сходства, чем выявить противоположные предпочтения*)\n",
    "\n",
    "Косинус угла $ \\theta $ между векторами $ \\mathbf{A} $ и $ \\mathbf{B} $ находится по формуле:\n",
    "\n",
    "$$\n",
    "\\cos \\theta = \\frac{\\mathbf{A} \\cdot \\mathbf{B}}{\\|\\mathbf{A}\\| \\|\\mathbf{B}\\|}\n",
    "$$\n",
    "\n",
    "где:\n",
    "\n",
    "- $ \\mathbf{A} \\cdot \\mathbf{B} = \\sum_{i=1}^{n} A_i B_i = A_1 B_1 + A_2 B_2 + \\dots + A_n B_n $ — скалярное произведение векторов,\n",
    "- $ \\|\\mathbf{A}\\| $ и $ \\|\\mathbf{B}\\| $ — их длины (модули), вычисляемые как:\n",
    "\n",
    "$$\n",
    "\\|\\mathbf{A}\\| = \\sqrt{\\sum_{i=1}^{n} A_i^2} = \\sqrt{A_1^2 + A_2^2 + \\dots + A_n^2}, \\|\\mathbf{B}\\| = \\sqrt{\\sum_{i=1}^{n} B_i^2} = \\sqrt{B_1^2 + B_2^2 + \\dots + B_n^2}\n",
    "$$"
   ]
  },
  {
   "cell_type": "markdown",
   "metadata": {},
   "source": [
    "## Реализация"
   ]
  },
  {
   "cell_type": "code",
   "execution_count": 3,
   "metadata": {},
   "outputs": [],
   "source": [
    "import numpy as np\n",
    "import pandas as pd\n",
    "import os"
   ]
  },
  {
   "cell_type": "code",
   "execution_count": null,
   "metadata": {},
   "outputs": [],
   "source": [
    "def cosine_similarity(user1, user2):\n",
    "    # Ищем общие элементы (например, статьи, которые оба пользователя читали)\n",
    "    mask = ~np.isnan(user1) & ~np.isnan(user2)\n",
    "    if np.sum(mask) == 0:\n",
    "        return 0  # Если нет общих оценок, сходство = 0\n",
    "    user1_filtered = user1[mask]\n",
    "    user2_filtered = user2[mask]\n",
    "    \n",
    "    # Косинусное сходство\n",
    "    numerator = np.dot(user1_filtered, user2_filtered)\n",
    "    denominator = np.linalg.norm(user1_filtered) * np.linalg.norm(user2_filtered)\n",
    "    return numerator / denominator\n",
    "\n",
    "def calculate_user_similarity(df):\n",
    "    similarity_matrix = np.zeros((df.shape[0], df.shape[0]))  # Создаем пустую матрицу схожести\n",
    "    \n",
    "    for i in range(df.shape[0]):\n",
    "        for j in range(i + 1, df.shape[0]):  # Ищем только уникальные пары (i, j)\n",
    "            similarity = cosine_similarity(df.iloc[i], df.iloc[j])  # Вычисляем сходство\n",
    "            similarity_matrix[i, j] = similarity\n",
    "            similarity_matrix[j, i] = similarity  # Симметричная матрица\n",
    "            \n",
    "    return pd.DataFrame(similarity_matrix, index=df.index, columns=df.index)"
   ]
  }
 ],
 "metadata": {
  "kernelspec": {
   "display_name": "Python 3",
   "language": "python",
   "name": "python3"
  },
  "language_info": {
   "codemirror_mode": {
    "name": "ipython",
    "version": 3
   },
   "file_extension": ".py",
   "mimetype": "text/x-python",
   "name": "python",
   "nbconvert_exporter": "python",
   "pygments_lexer": "ipython3",
   "version": "3.12.5"
  }
 },
 "nbformat": 4,
 "nbformat_minor": 2
}
