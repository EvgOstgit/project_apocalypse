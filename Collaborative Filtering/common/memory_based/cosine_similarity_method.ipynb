{
 "cells": [
  {
   "cell_type": "markdown",
   "metadata": {},
   "source": [
    "# Метод косинусного сходства"
   ]
  },
  {
   "cell_type": "markdown",
   "metadata": {},
   "source": [
    "## О методе\n",
    "\n",
    "Метод **косинусного сходства** (*cosine similarity*) в коллаборативной фильтрации используется для измерения сходства между пользователями или предметами на основе их характеристик или предпочтений.\n",
    "\n",
    "Косинусное сходство измеряет **угол** между двумя **нормированными** векторами в многомерном пространстве.\n",
    "\n",
    "- Если угол маленький (векторы направлены в одну сторону), сходство близко к 1 (*почти идентичные предпочтения*)\n",
    "- Если угол большой (векторы направлены в разные стороны), сходство близко к 0 (*нет связи*)\n",
    "- Если векторы полностью противоположны, сходство -1 (*полная антипатия, но такое можно встретить крайне редко, отрицательные значения можно, например, обнулять или брать по модулю, рекомендательной системе важнее выявить сходства, чем противоположные предпочтения*)\n",
    "\n",
    "Косинус угла $ \\theta $ между векторами $ \\mathbf{A} $ и $ \\mathbf{B} $ находится по формуле:\n",
    "\n",
    "$$\n",
    "\\cos \\theta = \\frac{\\mathbf{A} \\cdot \\mathbf{B}}{\\|\\mathbf{A}\\| \\|\\mathbf{B}\\|}\n",
    "$$\n",
    "\n",
    "где:\n",
    "\n",
    "- $ \\mathbf{A} \\cdot \\mathbf{B} = \\sum_{i=1}^{n} A_i B_i = A_1 B_1 + A_2 B_2 + \\dots + A_n B_n $ — скалярное произведение векторов,\n",
    "- $ \\|\\mathbf{A}\\| $ и $ \\|\\mathbf{B}\\| $ — их длины (модули), вычисляемые как:\n",
    "\n",
    "$$\n",
    "\\|\\mathbf{A}\\| = \\sqrt{\\sum_{i=1}^{n} A_i^2} = \\sqrt{A_1^2 + A_2^2 + \\dots + A_n^2}, \\|\\mathbf{B}\\| = \\sqrt{\\sum_{i=1}^{n} B_i^2} = \\sqrt{B_1^2 + B_2^2 + \\dots + B_n^2}\n",
    "$$"
   ]
  },
  {
   "cell_type": "markdown",
   "metadata": {},
   "source": [
    "## Реализация\n",
    "\n",
    "### Данные\n",
    "\n",
    "**MIND** (***Mi**crosoft* ***N**ews* ***D**ataset*) - крупномасштабный набор данных для исследования рекомендаций новостей. Содержит около 160 тыс. новостных статей на английском языке и более 15 млн. журналов показов, созданных 1 млн. пользователей.\n",
    "\n",
    "Будет использоваться **MIND-small** - около 50 тыс. пользователей и их журналы взаимодействия.\n",
    "\n",
    "Данные состоят из нескольких файлов, среди которых интересующий нас - журнал взаимодействия пользователей (*behaviors.tsv*)\n",
    "\n",
    "Файл содержит таблицу, каждая строка которой состоит из номера взаимодействия, id пользователя, даты и времени взаимодействия, показанных пользователю новостей, новостей, на которые пользователь кликнул."
   ]
  },
  {
   "cell_type": "code",
   "execution_count": 17,
   "metadata": {},
   "outputs": [
    {
     "name": "stdout",
     "output_type": "stream",
     "text": [
      "   id user_id              timestamp  \\\n",
      "0   1  U13740  11/11/2019 9:05:58 AM   \n",
      "1   2  U91836  11/12/2019 6:11:30 PM   \n",
      "\n",
      "                                          shown_news  \\\n",
      "0  N55189 N42782 N34694 N45794 N18445 N63302 N104...   \n",
      "1  N31739 N6072 N63045 N23979 N35656 N43353 N8129...   \n",
      "\n",
      "                                        clicked_news  \n",
      "0                                  N55689-1 N35729-0  \n",
      "1  N20678-0 N39317-0 N58114-0 N20495-0 N42977-0 N...  \n"
     ]
    }
   ],
   "source": [
    "import pandas as pd\n",
    "\n",
    "df = pd.read_csv('../../data/Mindsmall_train/behaviors.tsv', sep='\\t', header=None, names=['id', 'user_id', 'timestamp', 'shown_news', 'clicked_news'])\n",
    "\n",
    "print(df.head(2))"
   ]
  },
  {
   "cell_type": "markdown",
   "metadata": {},
   "source": [
    "### Идея\n",
    "\n",
    "Для реализации метода косинусного сходства нужны две вещи: векторы и сущности, которые они представляют (в нашем случае - пользователи). В качестве вектора можно представить список новостей, на которые пользователь кликнул.\n",
    "\n",
    "Возможных значений координат вектора всего два:\n",
    "\n",
    "- 1 - если пользователь кликнул на новость\n",
    "- 0 - если не кликнул"
   ]
  },
  {
   "cell_type": "markdown",
   "metadata": {},
   "source": [
    "### Код"
   ]
  },
  {
   "cell_type": "code",
   "execution_count": 18,
   "metadata": {},
   "outputs": [],
   "source": [
    "import numpy as np"
   ]
  },
  {
   "cell_type": "code",
   "execution_count": null,
   "metadata": {},
   "outputs": [],
   "source": [
    "def cosine_similarity(user1, user2):\n",
    "    # Ищем общие элементы (например, статьи, которые оба пользователя читали)\n",
    "    mask = ~np.isnan(user1) & ~np.isnan(user2)\n",
    "    if np.sum(mask) == 0:\n",
    "        return 0  # Если нет общих оценок, сходство = 0\n",
    "    user1_filtered = user1[mask]\n",
    "    user2_filtered = user2[mask]\n",
    "    \n",
    "    # Косинусное сходство\n",
    "    numerator = np.dot(user1_filtered, user2_filtered)\n",
    "    denominator = np.linalg.norm(user1_filtered) * np.linalg.norm(user2_filtered)\n",
    "    return numerator / denominator\n",
    "\n",
    "def calculate_user_similarity(df):\n",
    "    similarity_matrix = np.zeros((df.shape[0], df.shape[0]))  # Создаем пустую матрицу схожести\n",
    "    \n",
    "    for i in range(df.shape[0]):\n",
    "        for j in range(i + 1, df.shape[0]):  # Ищем только уникальные пары (i, j)\n",
    "            similarity = cosine_similarity(df.iloc[i], df.iloc[j])  # Вычисляем сходство\n",
    "            similarity_matrix[i, j] = similarity\n",
    "            similarity_matrix[j, i] = similarity  # Симметричная матрица\n",
    "            \n",
    "    return pd.DataFrame(similarity_matrix, index=df.index, columns=df.index)"
   ]
  }
 ],
 "metadata": {
  "kernelspec": {
   "display_name": "Python 3",
   "language": "python",
   "name": "python3"
  },
  "language_info": {
   "codemirror_mode": {
    "name": "ipython",
    "version": 3
   },
   "file_extension": ".py",
   "mimetype": "text/x-python",
   "name": "python",
   "nbconvert_exporter": "python",
   "pygments_lexer": "ipython3",
   "version": "3.12.5"
  }
 },
 "nbformat": 4,
 "nbformat_minor": 2
}
