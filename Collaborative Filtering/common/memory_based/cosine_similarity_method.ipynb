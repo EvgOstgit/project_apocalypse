{
 "cells": [
  {
   "cell_type": "markdown",
   "metadata": {},
   "source": [
    "# Метод косинусного сходства"
   ]
  },
  {
   "cell_type": "markdown",
   "metadata": {},
   "source": [
    "## О методе\n",
    "\n",
    "Метод **косинусного сходства** (*cosine similarity*) в коллаборативной фильтрации используется для измерения сходства между пользователями или предметами на основе их характеристик или предпочтений.\n",
    "\n",
    "Косинусное сходство измеряет **угол** между двумя **нормированными** векторами в многомерном пространстве.\n",
    "\n",
    "- Если угол маленький (векторы направлены в одну сторону), сходство близко к 1 (*почти идентичные предпочтения*)\n",
    "- Если угол большой (векторы направлены в разные стороны), сходство близко к 0 (*нет связи*)\n",
    "- Если векторы полностью противоположны, сходство -1 (*полная антипатия, но такое можно встретить крайне редко, отрицательные значения можно, например, обнулять или брать по модулю, рекомендательной системе важнее выявить сходства, чем противоположные предпочтения*)\n",
    "\n",
    "Косинус угла $ \\theta $ между векторами $ \\mathbf{A} $ и $ \\mathbf{B} $ находится по формуле:\n",
    "\n",
    "$$\n",
    "\\cos \\theta = \\frac{\\mathbf{A} \\cdot \\mathbf{B}}{\\|\\mathbf{A}\\| \\|\\mathbf{B}\\|}\n",
    "$$\n",
    "\n",
    "где:\n",
    "\n",
    "- $ \\mathbf{A} \\cdot \\mathbf{B} = \\sum_{i=1}^{n} A_i B_i = A_1 B_1 + A_2 B_2 + \\dots + A_n B_n $ — скалярное произведение векторов,\n",
    "- $ \\|\\mathbf{A}\\| $ и $ \\|\\mathbf{B}\\| $ — их длины (модули), вычисляемые как:\n",
    "\n",
    "$$\n",
    "\\|\\mathbf{A}\\| = \\sqrt{\\sum_{i=1}^{n} A_i^2} = \\sqrt{A_1^2 + A_2^2 + \\dots + A_n^2}, \\|\\mathbf{B}\\| = \\sqrt{\\sum_{i=1}^{n} B_i^2} = \\sqrt{B_1^2 + B_2^2 + \\dots + B_n^2}\n",
    "$$"
   ]
  },
  {
   "cell_type": "markdown",
   "metadata": {},
   "source": [
    "## Реализация\n",
    "\n",
    "### Данные\n",
    "\n",
    "**MIND** (***Mi**crosoft* ***N**ews* ***D**ataset*) - крупномасштабный набор данных для исследования рекомендаций новостей. Содержит около 160 тыс. новостных статей на английском языке и более 15 млн. журналов показов, созданных 1 млн. пользователей.\n",
    "\n",
    "Будет использоваться **MIND-small** - около 50 тыс. пользователей и их журналы взаимодействия.\n",
    "\n",
    "Данные состоят из нескольких файлов, среди которых интересующий нас - журнал взаимодействия пользователей (*behaviors.tsv*)\n",
    "\n",
    "Файл содержит таблицу, каждая строка которой состоит из номера взаимодействия, id пользователя, даты и времени взаимодействия, показанных пользователю новостей, новостей, на которые пользователь кликнул."
   ]
  },
  {
   "cell_type": "code",
   "execution_count": 3,
   "metadata": {},
   "outputs": [
    {
     "name": "stdout",
     "output_type": "stream",
     "text": [
      "   id user_id              timestamp  \\\n",
      "0   1  U13740  11/11/2019 9:05:58 AM   \n",
      "1   2  U91836  11/12/2019 6:11:30 PM   \n",
      "\n",
      "                                          shown_news  \\\n",
      "0  N55189 N42782 N34694 N45794 N18445 N63302 N104...   \n",
      "1  N31739 N6072 N63045 N23979 N35656 N43353 N8129...   \n",
      "\n",
      "                                        clicked_news  \n",
      "0                                  N55689-1 N35729-0  \n",
      "1  N20678-0 N39317-0 N58114-0 N20495-0 N42977-0 N...  \n"
     ]
    }
   ],
   "source": [
    "import pandas as pd\n",
    "\n",
    "df = pd.read_csv('../../data/Mindsmall_train/behaviors.tsv', sep='\\t', header=None, names=['id', 'user_id', 'timestamp', 'shown_news', 'clicked_news'])\n",
    "\n",
    "print(df.head(2))"
   ]
  },
  {
   "cell_type": "markdown",
   "metadata": {},
   "source": [
    "### Идея\n",
    "\n",
    "Для реализации метода косинусного сходства нужны две вещи: векторы и сущности, которые они представляют (в нашем случае - пользователи). В качестве вектора можно представить список новостей, на которые пользователь кликнул.\n",
    "\n",
    "Возможных значений координат вектора всего два:\n",
    "\n",
    "- 1 - если пользователь кликнул на новость\n",
    "- 0 - если не кликнул\n",
    "\n",
    "Вектор будет состоять из **всех** известных посещенных пользователем новостей.\n",
    "\n",
    "Нужно создать **матрицу пользователь-новость**, которая показывает, какие новости просматривал каждый пользователь. Эта матрица будет использоваться для вычисления косинусного сходства и рекомендаций."
   ]
  },
  {
   "cell_type": "markdown",
   "metadata": {},
   "source": [
    "### Код\n",
    "\n",
    "Столбцы **user_id** и **clicked_news** содержат строковые значения, причем столбец clicked_news может содержать сразу несколько новостей. Сначала нужно преобразовать таблицу таким образом, чтобы в каждой строке значение столбца clicked_news было одним. Затем закодировать их, чтобы представить значения в виде чисел для удобной работы с матрицами. Для этого можно использовать метод `factorize()`, который:\n",
    "\n",
    "- Преобразует **строковые значения** в **числовые индексы**\n",
    "- Возвращает два массива: **кодированные значения** и **уникальные категории**"
   ]
  },
  {
   "cell_type": "code",
   "execution_count": 4,
   "metadata": {},
   "outputs": [
    {
     "name": "stdout",
     "output_type": "stream",
     "text": [
      "[    0     0     1 ... 13308 13308 13308]\n",
      "[   0    1    2 ... 4178 1233 1574]\n"
     ]
    },
    {
     "data": {
      "text/plain": [
       "True"
      ]
     },
     "execution_count": 4,
     "metadata": {},
     "output_type": "execute_result"
    }
   ],
   "source": [
    "import numpy as np\n",
    "\n",
    "df = df[['user_id', 'clicked_news']]\n",
    "df['clicked_news'] = df['clicked_news'].str.split()\n",
    "df = df.explode('clicked_news')\n",
    "users, user_idx = pd.factorize(df['user_id'])\n",
    "news, news_idx = pd.factorize(df['clicked_news'])\n",
    "\n",
    "print(users)\n",
    "print(news)\n",
    "len(users) == len(news)"
   ]
  },
  {
   "cell_type": "code",
   "execution_count": 5,
   "metadata": {},
   "outputs": [
    {
     "name": "stdout",
     "output_type": "stream",
     "text": [
      "[[0 0 0 ... 0 0 0]\n",
      " [0 0 0 ... 0 0 0]\n",
      " [0 0 0 ... 0 0 0]\n",
      " ...\n",
      " [0 0 0 ... 0 0 0]\n",
      " [0 0 0 ... 0 0 0]\n",
      " [0 0 0 ... 0 0 0]]\n"
     ]
    }
   ],
   "source": [
    "user_news_matrix = np.zeros((len(user_idx), len(news_idx)), dtype=int)\n",
    "print(user_news_matrix)"
   ]
  },
  {
   "cell_type": "code",
   "execution_count": 6,
   "metadata": {},
   "outputs": [
    {
     "name": "stdout",
     "output_type": "stream",
     "text": [
      "Первые 5 пользователей: Index(['U13740', 'U91836', 'U73700', 'U34670', 'U8125'], dtype='object')\n",
      "Первые 6 новостей: Index(['N55689-1', 'N35729-0', 'N20678-0', 'N39317-0', 'N58114-0', 'N20495-0'], dtype='object')\n",
      "Фрагмент матрицы пользователь-новость:\n",
      "[[1 1 0 0 0 0]\n",
      " [0 0 1 1 1 1]\n",
      " [0 0 1 1 0 0]\n",
      " [0 1 0 0 0 0]\n",
      " [0 0 1 1 1 0]]\n"
     ]
    }
   ],
   "source": [
    "user_news_matrix[users, news] = 1\n",
    "# Проверка правильности:\n",
    "print(\"Первые 5 пользователей:\", user_idx[:5])\n",
    "print(\"Первые 6 новостей:\", news_idx[:6])\n",
    "print(\"Фрагмент матрицы пользователь-новость:\")\n",
    "print(user_news_matrix[:5, :6])  # Фрагмент 5x6 для проверки"
   ]
  },
  {
   "cell_type": "markdown",
   "metadata": {},
   "source": [
    "Получена матрица, строки которой - это те векторы, которые и нужно сравнивать. Теперь можно реализовать сам метод косинусного сходства - вычисление угла между векторами"
   ]
  },
  {
   "cell_type": "code",
   "execution_count": 7,
   "metadata": {},
   "outputs": [
    {
     "name": "stdout",
     "output_type": "stream",
     "text": [
      "[[1.         0.16057266 0.00698857 ... 0.         0.11268723 0.01050814]\n",
      " [0.16057266 1.         0.16790507 ... 0.0371023  0.01781176 0.00664382]\n",
      " [0.00698857 0.16790507 1.         ... 0.09688768 0.         0.0231326 ]\n",
      " ...\n",
      " [0.         0.0371023  0.09688768 ... 1.         0.         0.        ]\n",
      " [0.11268723 0.01781176 0.         ... 0.         1.         0.        ]\n",
      " [0.01050814 0.00664382 0.0231326  ... 0.         0.         1.        ]]\n"
     ]
    }
   ],
   "source": [
    "def cosine_similarity_matrix(matrix):\n",
    "    # Нормализация векторов\n",
    "    norms = np.linalg.norm(matrix, axis=1, keepdims=True)\n",
    "    normalized_matrix = matrix / norms\n",
    "\n",
    "    # Получаем матрицу сходства, умножая нормализованную матрицу на транспонированную\n",
    "    similarity_matrix = np.dot(normalized_matrix, normalized_matrix.T)\n",
    "\n",
    "    return similarity_matrix\n",
    "\n",
    "cos_sim_matrix = cosine_similarity_matrix(user_news_matrix)\n",
    "print(cos_sim_matrix)"
   ]
  },
  {
   "cell_type": "code",
   "execution_count": 12,
   "metadata": {},
   "outputs": [
    {
     "name": "stdout",
     "output_type": "stream",
     "text": [
      "[[1.         0.16057266 0.00698857 0.02129589 0.01356595]\n",
      " [0.16057266 1.         0.16790507 0.05385771 0.11150278]\n",
      " [0.00698857 0.16790507 1.         0.09376145 0.14932027]\n",
      " [0.02129589 0.05385771 0.09376145 1.         0.04550158]\n",
      " [0.01356595 0.11150278 0.14932027 0.04550158 1.        ]]\n"
     ]
    }
   ],
   "source": [
    "print(cos_sim_matrix[:5, :5])"
   ]
  },
  {
   "cell_type": "code",
   "execution_count": 14,
   "metadata": {},
   "outputs": [
    {
     "ename": "KeyboardInterrupt",
     "evalue": "",
     "output_type": "error",
     "traceback": [
      "\u001b[31m---------------------------------------------------------------------------\u001b[39m",
      "\u001b[31mKeyboardInterrupt\u001b[39m                         Traceback (most recent call last)",
      "\u001b[36mCell\u001b[39m\u001b[36m \u001b[39m\u001b[32mIn[14]\u001b[39m\u001b[32m, line 2\u001b[39m\n\u001b[32m      1\u001b[39m df_matrix = pd.DataFrame(cos_sim_matrix)\n\u001b[32m----> \u001b[39m\u001b[32m2\u001b[39m \u001b[43mdf_matrix\u001b[49m\u001b[43m.\u001b[49m\u001b[43mto_csv\u001b[49m\u001b[43m(\u001b[49m\u001b[33;43m'\u001b[39;49m\u001b[33;43mcos_sim_matrix.csv\u001b[39;49m\u001b[33;43m'\u001b[39;49m\u001b[43m,\u001b[49m\u001b[43m \u001b[49m\u001b[43mindex\u001b[49m\u001b[43m=\u001b[49m\u001b[38;5;28;43;01mTrue\u001b[39;49;00m\u001b[43m)\u001b[49m\n",
      "\u001b[36mFile \u001b[39m\u001b[32mc:\\Users\\ostas\\AppData\\Local\\Programs\\Python\\Python312\\Lib\\site-packages\\pandas\\util\\_decorators.py:333\u001b[39m, in \u001b[36mdeprecate_nonkeyword_arguments.<locals>.decorate.<locals>.wrapper\u001b[39m\u001b[34m(*args, **kwargs)\u001b[39m\n\u001b[32m    327\u001b[39m \u001b[38;5;28;01mif\u001b[39;00m \u001b[38;5;28mlen\u001b[39m(args) > num_allow_args:\n\u001b[32m    328\u001b[39m     warnings.warn(\n\u001b[32m    329\u001b[39m         msg.format(arguments=_format_argument_list(allow_args)),\n\u001b[32m    330\u001b[39m         \u001b[38;5;167;01mFutureWarning\u001b[39;00m,\n\u001b[32m    331\u001b[39m         stacklevel=find_stack_level(),\n\u001b[32m    332\u001b[39m     )\n\u001b[32m--> \u001b[39m\u001b[32m333\u001b[39m \u001b[38;5;28;01mreturn\u001b[39;00m \u001b[43mfunc\u001b[49m\u001b[43m(\u001b[49m\u001b[43m*\u001b[49m\u001b[43margs\u001b[49m\u001b[43m,\u001b[49m\u001b[43m \u001b[49m\u001b[43m*\u001b[49m\u001b[43m*\u001b[49m\u001b[43mkwargs\u001b[49m\u001b[43m)\u001b[49m\n",
      "\u001b[36mFile \u001b[39m\u001b[32mc:\\Users\\ostas\\AppData\\Local\\Programs\\Python\\Python312\\Lib\\site-packages\\pandas\\core\\generic.py:3967\u001b[39m, in \u001b[36mNDFrame.to_csv\u001b[39m\u001b[34m(self, path_or_buf, sep, na_rep, float_format, columns, header, index, index_label, mode, encoding, compression, quoting, quotechar, lineterminator, chunksize, date_format, doublequote, escapechar, decimal, errors, storage_options)\u001b[39m\n\u001b[32m   3956\u001b[39m df = \u001b[38;5;28mself\u001b[39m \u001b[38;5;28;01mif\u001b[39;00m \u001b[38;5;28misinstance\u001b[39m(\u001b[38;5;28mself\u001b[39m, ABCDataFrame) \u001b[38;5;28;01melse\u001b[39;00m \u001b[38;5;28mself\u001b[39m.to_frame()\n\u001b[32m   3958\u001b[39m formatter = DataFrameFormatter(\n\u001b[32m   3959\u001b[39m     frame=df,\n\u001b[32m   3960\u001b[39m     header=header,\n\u001b[32m   (...)\u001b[39m\u001b[32m   3964\u001b[39m     decimal=decimal,\n\u001b[32m   3965\u001b[39m )\n\u001b[32m-> \u001b[39m\u001b[32m3967\u001b[39m \u001b[38;5;28;01mreturn\u001b[39;00m \u001b[43mDataFrameRenderer\u001b[49m\u001b[43m(\u001b[49m\u001b[43mformatter\u001b[49m\u001b[43m)\u001b[49m\u001b[43m.\u001b[49m\u001b[43mto_csv\u001b[49m\u001b[43m(\u001b[49m\n\u001b[32m   3968\u001b[39m \u001b[43m    \u001b[49m\u001b[43mpath_or_buf\u001b[49m\u001b[43m,\u001b[49m\n\u001b[32m   3969\u001b[39m \u001b[43m    \u001b[49m\u001b[43mlineterminator\u001b[49m\u001b[43m=\u001b[49m\u001b[43mlineterminator\u001b[49m\u001b[43m,\u001b[49m\n\u001b[32m   3970\u001b[39m \u001b[43m    \u001b[49m\u001b[43msep\u001b[49m\u001b[43m=\u001b[49m\u001b[43msep\u001b[49m\u001b[43m,\u001b[49m\n\u001b[32m   3971\u001b[39m \u001b[43m    \u001b[49m\u001b[43mencoding\u001b[49m\u001b[43m=\u001b[49m\u001b[43mencoding\u001b[49m\u001b[43m,\u001b[49m\n\u001b[32m   3972\u001b[39m \u001b[43m    \u001b[49m\u001b[43merrors\u001b[49m\u001b[43m=\u001b[49m\u001b[43merrors\u001b[49m\u001b[43m,\u001b[49m\n\u001b[32m   3973\u001b[39m \u001b[43m    \u001b[49m\u001b[43mcompression\u001b[49m\u001b[43m=\u001b[49m\u001b[43mcompression\u001b[49m\u001b[43m,\u001b[49m\n\u001b[32m   3974\u001b[39m \u001b[43m    \u001b[49m\u001b[43mquoting\u001b[49m\u001b[43m=\u001b[49m\u001b[43mquoting\u001b[49m\u001b[43m,\u001b[49m\n\u001b[32m   3975\u001b[39m \u001b[43m    \u001b[49m\u001b[43mcolumns\u001b[49m\u001b[43m=\u001b[49m\u001b[43mcolumns\u001b[49m\u001b[43m,\u001b[49m\n\u001b[32m   3976\u001b[39m \u001b[43m    \u001b[49m\u001b[43mindex_label\u001b[49m\u001b[43m=\u001b[49m\u001b[43mindex_label\u001b[49m\u001b[43m,\u001b[49m\n\u001b[32m   3977\u001b[39m \u001b[43m    \u001b[49m\u001b[43mmode\u001b[49m\u001b[43m=\u001b[49m\u001b[43mmode\u001b[49m\u001b[43m,\u001b[49m\n\u001b[32m   3978\u001b[39m \u001b[43m    \u001b[49m\u001b[43mchunksize\u001b[49m\u001b[43m=\u001b[49m\u001b[43mchunksize\u001b[49m\u001b[43m,\u001b[49m\n\u001b[32m   3979\u001b[39m \u001b[43m    \u001b[49m\u001b[43mquotechar\u001b[49m\u001b[43m=\u001b[49m\u001b[43mquotechar\u001b[49m\u001b[43m,\u001b[49m\n\u001b[32m   3980\u001b[39m \u001b[43m    \u001b[49m\u001b[43mdate_format\u001b[49m\u001b[43m=\u001b[49m\u001b[43mdate_format\u001b[49m\u001b[43m,\u001b[49m\n\u001b[32m   3981\u001b[39m \u001b[43m    \u001b[49m\u001b[43mdoublequote\u001b[49m\u001b[43m=\u001b[49m\u001b[43mdoublequote\u001b[49m\u001b[43m,\u001b[49m\n\u001b[32m   3982\u001b[39m \u001b[43m    \u001b[49m\u001b[43mescapechar\u001b[49m\u001b[43m=\u001b[49m\u001b[43mescapechar\u001b[49m\u001b[43m,\u001b[49m\n\u001b[32m   3983\u001b[39m \u001b[43m    \u001b[49m\u001b[43mstorage_options\u001b[49m\u001b[43m=\u001b[49m\u001b[43mstorage_options\u001b[49m\u001b[43m,\u001b[49m\n\u001b[32m   3984\u001b[39m \u001b[43m\u001b[49m\u001b[43m)\u001b[49m\n",
      "\u001b[36mFile \u001b[39m\u001b[32mc:\\Users\\ostas\\AppData\\Local\\Programs\\Python\\Python312\\Lib\\site-packages\\pandas\\io\\formats\\format.py:1014\u001b[39m, in \u001b[36mDataFrameRenderer.to_csv\u001b[39m\u001b[34m(self, path_or_buf, encoding, sep, columns, index_label, mode, compression, quoting, quotechar, lineterminator, chunksize, date_format, doublequote, escapechar, errors, storage_options)\u001b[39m\n\u001b[32m    993\u001b[39m     created_buffer = \u001b[38;5;28;01mFalse\u001b[39;00m\n\u001b[32m    995\u001b[39m csv_formatter = CSVFormatter(\n\u001b[32m    996\u001b[39m     path_or_buf=path_or_buf,\n\u001b[32m    997\u001b[39m     lineterminator=lineterminator,\n\u001b[32m   (...)\u001b[39m\u001b[32m   1012\u001b[39m     formatter=\u001b[38;5;28mself\u001b[39m.fmt,\n\u001b[32m   1013\u001b[39m )\n\u001b[32m-> \u001b[39m\u001b[32m1014\u001b[39m \u001b[43mcsv_formatter\u001b[49m\u001b[43m.\u001b[49m\u001b[43msave\u001b[49m\u001b[43m(\u001b[49m\u001b[43m)\u001b[49m\n\u001b[32m   1016\u001b[39m \u001b[38;5;28;01mif\u001b[39;00m created_buffer:\n\u001b[32m   1017\u001b[39m     \u001b[38;5;28;01massert\u001b[39;00m \u001b[38;5;28misinstance\u001b[39m(path_or_buf, StringIO)\n",
      "\u001b[36mFile \u001b[39m\u001b[32mc:\\Users\\ostas\\AppData\\Local\\Programs\\Python\\Python312\\Lib\\site-packages\\pandas\\io\\formats\\csvs.py:270\u001b[39m, in \u001b[36mCSVFormatter.save\u001b[39m\u001b[34m(self)\u001b[39m\n\u001b[32m    251\u001b[39m \u001b[38;5;28;01mwith\u001b[39;00m get_handle(\n\u001b[32m    252\u001b[39m     \u001b[38;5;28mself\u001b[39m.filepath_or_buffer,\n\u001b[32m    253\u001b[39m     \u001b[38;5;28mself\u001b[39m.mode,\n\u001b[32m   (...)\u001b[39m\u001b[32m    258\u001b[39m ) \u001b[38;5;28;01mas\u001b[39;00m handles:\n\u001b[32m    259\u001b[39m     \u001b[38;5;66;03m# Note: self.encoding is irrelevant here\u001b[39;00m\n\u001b[32m    260\u001b[39m     \u001b[38;5;28mself\u001b[39m.writer = csvlib.writer(\n\u001b[32m    261\u001b[39m         handles.handle,\n\u001b[32m    262\u001b[39m         lineterminator=\u001b[38;5;28mself\u001b[39m.lineterminator,\n\u001b[32m   (...)\u001b[39m\u001b[32m    267\u001b[39m         quotechar=\u001b[38;5;28mself\u001b[39m.quotechar,\n\u001b[32m    268\u001b[39m     )\n\u001b[32m--> \u001b[39m\u001b[32m270\u001b[39m     \u001b[38;5;28;43mself\u001b[39;49m\u001b[43m.\u001b[49m\u001b[43m_save\u001b[49m\u001b[43m(\u001b[49m\u001b[43m)\u001b[49m\n",
      "\u001b[36mFile \u001b[39m\u001b[32mc:\\Users\\ostas\\AppData\\Local\\Programs\\Python\\Python312\\Lib\\site-packages\\pandas\\io\\formats\\csvs.py:275\u001b[39m, in \u001b[36mCSVFormatter._save\u001b[39m\u001b[34m(self)\u001b[39m\n\u001b[32m    273\u001b[39m \u001b[38;5;28;01mif\u001b[39;00m \u001b[38;5;28mself\u001b[39m._need_to_save_header:\n\u001b[32m    274\u001b[39m     \u001b[38;5;28mself\u001b[39m._save_header()\n\u001b[32m--> \u001b[39m\u001b[32m275\u001b[39m \u001b[38;5;28;43mself\u001b[39;49m\u001b[43m.\u001b[49m\u001b[43m_save_body\u001b[49m\u001b[43m(\u001b[49m\u001b[43m)\u001b[49m\n",
      "\u001b[36mFile \u001b[39m\u001b[32mc:\\Users\\ostas\\AppData\\Local\\Programs\\Python\\Python312\\Lib\\site-packages\\pandas\\io\\formats\\csvs.py:313\u001b[39m, in \u001b[36mCSVFormatter._save_body\u001b[39m\u001b[34m(self)\u001b[39m\n\u001b[32m    311\u001b[39m \u001b[38;5;28;01mif\u001b[39;00m start_i >= end_i:\n\u001b[32m    312\u001b[39m     \u001b[38;5;28;01mbreak\u001b[39;00m\n\u001b[32m--> \u001b[39m\u001b[32m313\u001b[39m \u001b[38;5;28;43mself\u001b[39;49m\u001b[43m.\u001b[49m\u001b[43m_save_chunk\u001b[49m\u001b[43m(\u001b[49m\u001b[43mstart_i\u001b[49m\u001b[43m,\u001b[49m\u001b[43m \u001b[49m\u001b[43mend_i\u001b[49m\u001b[43m)\u001b[49m\n",
      "\u001b[36mFile \u001b[39m\u001b[32mc:\\Users\\ostas\\AppData\\Local\\Programs\\Python\\Python312\\Lib\\site-packages\\pandas\\io\\formats\\csvs.py:321\u001b[39m, in \u001b[36mCSVFormatter._save_chunk\u001b[39m\u001b[34m(self, start_i, end_i)\u001b[39m\n\u001b[32m    318\u001b[39m df = \u001b[38;5;28mself\u001b[39m.obj.iloc[slicer]\n\u001b[32m    320\u001b[39m res = df._get_values_for_csv(**\u001b[38;5;28mself\u001b[39m._number_format)\n\u001b[32m--> \u001b[39m\u001b[32m321\u001b[39m data = \u001b[38;5;28;43mlist\u001b[39;49m\u001b[43m(\u001b[49m\u001b[43mres\u001b[49m\u001b[43m.\u001b[49m\u001b[43m_iter_column_arrays\u001b[49m\u001b[43m(\u001b[49m\u001b[43m)\u001b[49m\u001b[43m)\u001b[49m\n\u001b[32m    323\u001b[39m ix = \u001b[38;5;28mself\u001b[39m.data_index[slicer]._get_values_for_csv(**\u001b[38;5;28mself\u001b[39m._number_format)\n\u001b[32m    324\u001b[39m libwriters.write_csv_rows(\n\u001b[32m    325\u001b[39m     data,\n\u001b[32m    326\u001b[39m     ix,\n\u001b[32m   (...)\u001b[39m\u001b[32m    329\u001b[39m     \u001b[38;5;28mself\u001b[39m.writer,\n\u001b[32m    330\u001b[39m )\n",
      "\u001b[36mFile \u001b[39m\u001b[32mc:\\Users\\ostas\\AppData\\Local\\Programs\\Python\\Python312\\Lib\\site-packages\\pandas\\core\\frame.py:4039\u001b[39m, in \u001b[36mDataFrame._iter_column_arrays\u001b[39m\u001b[34m(self)\u001b[39m\n\u001b[32m   4037\u001b[39m \u001b[38;5;28;01melse\u001b[39;00m:\n\u001b[32m   4038\u001b[39m     \u001b[38;5;28;01mfor\u001b[39;00m i \u001b[38;5;129;01min\u001b[39;00m \u001b[38;5;28mrange\u001b[39m(\u001b[38;5;28mlen\u001b[39m(\u001b[38;5;28mself\u001b[39m.columns)):\n\u001b[32m-> \u001b[39m\u001b[32m4039\u001b[39m         \u001b[38;5;28;01myield\u001b[39;00m \u001b[38;5;28;43mself\u001b[39;49m\u001b[43m.\u001b[49m\u001b[43m_get_column_array\u001b[49m\u001b[43m(\u001b[49m\u001b[43mi\u001b[49m\u001b[43m)\u001b[49m\n",
      "\u001b[36mFile \u001b[39m\u001b[32mc:\\Users\\ostas\\AppData\\Local\\Programs\\Python\\Python312\\Lib\\site-packages\\pandas\\core\\frame.py:4025\u001b[39m, in \u001b[36mDataFrame._get_column_array\u001b[39m\u001b[34m(self, i)\u001b[39m\n\u001b[32m   4017\u001b[39m \u001b[38;5;28;01mdef\u001b[39;00m\u001b[38;5;250m \u001b[39m\u001b[34m_get_column_array\u001b[39m(\u001b[38;5;28mself\u001b[39m, i: \u001b[38;5;28mint\u001b[39m) -> ArrayLike:\n\u001b[32m   4018\u001b[39m \u001b[38;5;250m    \u001b[39m\u001b[33;03m\"\"\"\u001b[39;00m\n\u001b[32m   4019\u001b[39m \u001b[33;03m    Get the values of the i'th column (ndarray or ExtensionArray, as stored\u001b[39;00m\n\u001b[32m   4020\u001b[39m \u001b[33;03m    in the Block)\u001b[39;00m\n\u001b[32m   (...)\u001b[39m\u001b[32m   4023\u001b[39m \u001b[33;03m    so this should be used with caution (for read-only purposes).\u001b[39;00m\n\u001b[32m   4024\u001b[39m \u001b[33;03m    \"\"\"\u001b[39;00m\n\u001b[32m-> \u001b[39m\u001b[32m4025\u001b[39m     \u001b[38;5;28;01mreturn\u001b[39;00m \u001b[38;5;28;43mself\u001b[39;49m\u001b[43m.\u001b[49m\u001b[43m_mgr\u001b[49m\u001b[43m.\u001b[49m\u001b[43miget_values\u001b[49m\u001b[43m(\u001b[49m\u001b[43mi\u001b[49m\u001b[43m)\u001b[49m\n",
      "\u001b[36mFile \u001b[39m\u001b[32mc:\\Users\\ostas\\AppData\\Local\\Programs\\Python\\Python312\\Lib\\site-packages\\pandas\\core\\internals\\managers.py:1035\u001b[39m, in \u001b[36mBlockManager.iget_values\u001b[39m\u001b[34m(self, i)\u001b[39m\n\u001b[32m   1033\u001b[39m \u001b[38;5;66;03m# TODO(CoW) making the arrays read-only might make this safer to use?\u001b[39;00m\n\u001b[32m   1034\u001b[39m block = \u001b[38;5;28mself\u001b[39m.blocks[\u001b[38;5;28mself\u001b[39m.blknos[i]]\n\u001b[32m-> \u001b[39m\u001b[32m1035\u001b[39m values = \u001b[43mblock\u001b[49m\u001b[43m.\u001b[49m\u001b[43miget\u001b[49m\u001b[43m(\u001b[49m\u001b[38;5;28;43mself\u001b[39;49m\u001b[43m.\u001b[49m\u001b[43mblklocs\u001b[49m\u001b[43m[\u001b[49m\u001b[43mi\u001b[49m\u001b[43m]\u001b[49m\u001b[43m)\u001b[49m\n\u001b[32m   1036\u001b[39m \u001b[38;5;28;01mreturn\u001b[39;00m values\n",
      "\u001b[36mFile \u001b[39m\u001b[32mc:\\Users\\ostas\\AppData\\Local\\Programs\\Python\\Python312\\Lib\\site-packages\\pandas\\core\\internals\\blocks.py:1253\u001b[39m, in \u001b[36mBlock.iget\u001b[39m\u001b[34m(self, i)\u001b[39m\n\u001b[32m   1249\u001b[39m \u001b[38;5;129m@property\u001b[39m\n\u001b[32m   1250\u001b[39m \u001b[38;5;28;01mdef\u001b[39;00m\u001b[38;5;250m \u001b[39m\u001b[34mshape\u001b[39m(\u001b[38;5;28mself\u001b[39m) -> Shape:\n\u001b[32m   1251\u001b[39m     \u001b[38;5;28;01mreturn\u001b[39;00m \u001b[38;5;28mself\u001b[39m.values.shape\n\u001b[32m-> \u001b[39m\u001b[32m1253\u001b[39m \u001b[38;5;28;01mdef\u001b[39;00m\u001b[38;5;250m \u001b[39m\u001b[34miget\u001b[39m(\u001b[38;5;28mself\u001b[39m, i: \u001b[38;5;28mint\u001b[39m | \u001b[38;5;28mtuple\u001b[39m[\u001b[38;5;28mint\u001b[39m, \u001b[38;5;28mint\u001b[39m] | \u001b[38;5;28mtuple\u001b[39m[\u001b[38;5;28mslice\u001b[39m, \u001b[38;5;28mint\u001b[39m]) -> np.ndarray:\n\u001b[32m   1254\u001b[39m     \u001b[38;5;66;03m# In the case where we have a tuple[slice, int], the slice will always\u001b[39;00m\n\u001b[32m   1255\u001b[39m     \u001b[38;5;66;03m#  be slice(None)\u001b[39;00m\n\u001b[32m   1256\u001b[39m     \u001b[38;5;66;03m# Note: only reached with self.ndim == 2\u001b[39;00m\n\u001b[32m   1257\u001b[39m     \u001b[38;5;66;03m# Invalid index type \"Union[int, Tuple[int, int], Tuple[slice, int]]\"\u001b[39;00m\n\u001b[32m   1258\u001b[39m     \u001b[38;5;66;03m# for \"Union[ndarray[Any, Any], ExtensionArray]\"; expected type\u001b[39;00m\n\u001b[32m   1259\u001b[39m     \u001b[38;5;66;03m# \"Union[int, integer[Any]]\"\u001b[39;00m\n\u001b[32m   1260\u001b[39m     \u001b[38;5;28;01mreturn\u001b[39;00m \u001b[38;5;28mself\u001b[39m.values[i]  \u001b[38;5;66;03m# type: ignore[index]\u001b[39;00m\n\u001b[32m   1262\u001b[39m \u001b[38;5;28;01mdef\u001b[39;00m\u001b[38;5;250m \u001b[39m\u001b[34m_slice\u001b[39m(\n\u001b[32m   1263\u001b[39m     \u001b[38;5;28mself\u001b[39m, slicer: \u001b[38;5;28mslice\u001b[39m | npt.NDArray[np.bool_] | npt.NDArray[np.intp]\n\u001b[32m   1264\u001b[39m ) -> ArrayLike:\n",
      "\u001b[31mKeyboardInterrupt\u001b[39m: "
     ]
    }
   ],
   "source": [
    "df_matrix = pd.DataFrame(cos_sim_matrix)\n",
    "df_matrix.to_csv('cos_sim_matrix.csv', index=True)"
   ]
  },
  {
   "cell_type": "code",
   "execution_count": null,
   "metadata": {},
   "outputs": [],
   "source": []
  }
 ],
 "metadata": {
  "kernelspec": {
   "display_name": "Python 3",
   "language": "python",
   "name": "python3"
  },
  "language_info": {
   "codemirror_mode": {
    "name": "ipython",
    "version": 3
   },
   "file_extension": ".py",
   "mimetype": "text/x-python",
   "name": "python",
   "nbconvert_exporter": "python",
   "pygments_lexer": "ipython3",
   "version": "3.12.5"
  }
 },
 "nbformat": 4,
 "nbformat_minor": 2
}
